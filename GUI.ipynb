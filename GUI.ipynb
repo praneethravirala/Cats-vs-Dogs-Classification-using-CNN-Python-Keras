{
 "cells": [
  {
   "cell_type": "markdown",
   "id": "28b82509-16fb-40f1-a0f2-b9d9adedeafa",
   "metadata": {},
   "source": [
    "AIT 736-001\n",
    "\n",
    "Professor: Lei Yang\n",
    "\n",
    "Project Team 4\n",
    "\n",
    "Project Title: 'Cats vs Dogs' Classification using CNN Keras\n",
    "\n",
    "Group Members:\n",
    "\n",
    "Praneeth Ravirala (G01448129)\n",
    "\n",
    "Shalvi Sanjay Lale (G01419005)"
   ]
  },
  {
   "cell_type": "code",
   "execution_count": 1,
   "id": "11c8d1f5-d847-44d2-94e6-a18671183c58",
   "metadata": {},
   "outputs": [],
   "source": [
    "import tkinter \n",
    "from tkinter import *\n",
    "from tkinter import filedialog "
   ]
  },
  {
   "cell_type": "code",
   "execution_count": 2,
   "id": "ba7a57c0-f74a-49be-ae0e-3b15f1837b22",
   "metadata": {},
   "outputs": [],
   "source": [
    "from sklearn.model_selection import train_test_split\n",
    "from keras.preprocessing.image import load_img\n",
    "import numpy as np\n",
    "import zipfile\n",
    "import os\n",
    "from PIL import Image\n",
    "import tensorflow as tf\n",
    "from tensorflow.keras.models import Sequential\n",
    "from tensorflow.keras.layers import Conv2D, MaxPooling2D, Flatten, Dense,Input\n",
    "from tensorflow.keras.utils import image_dataset_from_directory\n",
    "from tensorflow.keras.optimizers import SGD\n",
    "from PIL import Image, ImageTk"
   ]
  },
  {
   "cell_type": "code",
   "execution_count": 3,
   "id": "03681a06-e938-4e45-9fbd-f8156f20df3c",
   "metadata": {},
   "outputs": [],
   "source": [
    "filepath=None\n",
    "display=None\n",
    "test_img=None"
   ]
  },
  {
   "cell_type": "code",
   "execution_count": 5,
   "id": "52a31dce-c758-4621-9e9d-bf2f26450dd4",
   "metadata": {},
   "outputs": [
    {
     "name": "stderr",
     "output_type": "stream",
     "text": [
      "WARNING:absl:Compiled the loaded model, but the compiled metrics have yet to be built. `model.compile_metrics` will be empty until you train or evaluate the model.\n"
     ]
    }
   ],
   "source": [
    "model = tf.keras.models.load_model('/Users/praneethravirala/Downloads/model3.h5')"
   ]
  },
  {
   "cell_type": "code",
   "execution_count": 6,
   "id": "3027f252-7bcf-42dd-9f91-8a21fd73d6dc",
   "metadata": {},
   "outputs": [
    {
     "data": {
      "text/plain": [
       "''"
      ]
     },
     "execution_count": 6,
     "metadata": {},
     "output_type": "execute_result"
    }
   ],
   "source": [
    "main=tkinter.Tk()\n",
    "main.geometry('400x400')\n",
    "main.title('Cats Vs Dogs Classification')"
   ]
  },
  {
   "cell_type": "code",
   "execution_count": 7,
   "id": "71f69980-1e61-4938-aed3-7c9fa913554a",
   "metadata": {},
   "outputs": [],
   "source": [
    "def UploadImage():\n",
    "    global filepath\n",
    "    filepath = filedialog.askopenfilename()\n",
    "    return filepath"
   ]
  },
  {
   "cell_type": "code",
   "execution_count": 8,
   "id": "0c0dee92-e646-4972-8a36-b0cdfaad2169",
   "metadata": {},
   "outputs": [],
   "source": [
    "def testing():\n",
    "    global filepath,display,test_img\n",
    "    filepath=UploadImage()\n",
    "    test_img=load_img(filepath,target_size=(128,128,3))\n",
    "    img=test_img\n",
    "    img.thumbnail((250, 250))  \n",
    "    img = ImageTk.PhotoImage(img)\n",
    "    if display==None:\n",
    "        display= Label(main, image=img)\n",
    "        display.image=img\n",
    "    else:\n",
    "        display.config(image=img)\n",
    "        display.image=img\n",
    "    display.pack()"
   ]
  },
  {
   "cell_type": "code",
   "execution_count": 9,
   "id": "a4d61a80-f03f-45a6-9834-384f6c56216c",
   "metadata": {},
   "outputs": [],
   "source": [
    "def prediction():\n",
    "    global filepath,display,test_img\n",
    "    img_array=np.array(test_img)\n",
    "    img_array=img_array/255.0\n",
    "    img_array=img_array.reshape(1,128,128,3)\n",
    "    pred=model.predict(img_array)\n",
    "    if pred>0.5:\n",
    "        pred='Dog'\n",
    "    else:\n",
    "        pred='Cat'\n",
    "    return pred"
   ]
  },
  {
   "cell_type": "code",
   "execution_count": 10,
   "id": "51f1ec06-bb8e-4341-aca4-33486aaac08b",
   "metadata": {},
   "outputs": [],
   "source": [
    "def result1():\n",
    "    result2=prediction()\n",
    "    result.config(text=\"\")\n",
    "    result.config(text=result2)"
   ]
  },
  {
   "cell_type": "code",
   "execution_count": 11,
   "id": "a95a3edc-8073-4c93-abc8-5141c7c5a2d2",
   "metadata": {},
   "outputs": [],
   "source": [
    "result = tkinter.Label(text=\"\")\n",
    "button1 = tkinter.Button(text=\"Upload\",command=testing)\n",
    "button1.pack()\n",
    "button2=tkinter.Button(text=\"Predict\",command=result1)\n",
    "button2.pack()\n",
    "result.pack()"
   ]
  },
  {
   "cell_type": "code",
   "execution_count": 12,
   "id": "1e8e9ab2-2079-4fd3-ad4d-f50c596be567",
   "metadata": {},
   "outputs": [
    {
     "name": "stdout",
     "output_type": "stream",
     "text": [
      "\u001b[1m1/1\u001b[0m \u001b[32m━━━━━━━━━━━━━━━━━━━━\u001b[0m\u001b[37m\u001b[0m \u001b[1m0s\u001b[0m 67ms/step\n",
      "\u001b[1m1/1\u001b[0m \u001b[32m━━━━━━━━━━━━━━━━━━━━\u001b[0m\u001b[37m\u001b[0m \u001b[1m0s\u001b[0m 22ms/step\n",
      "\u001b[1m1/1\u001b[0m \u001b[32m━━━━━━━━━━━━━━━━━━━━\u001b[0m\u001b[37m\u001b[0m \u001b[1m0s\u001b[0m 21ms/step\n"
     ]
    }
   ],
   "source": [
    "main.mainloop()"
   ]
  },
  {
   "cell_type": "markdown",
   "id": "afe11991-9de7-459e-9bc8-e9cf08a80a29",
   "metadata": {},
   "source": [
    "References:\n",
    "\n",
    "[1].GeeksforGeeks. (2023, February 3). Python | Image Classification using Keras. GeeksforGeeks.\n",
    "\n",
    "[2].Kumar, R. (2024, November 30). Building and Using a Convolutional Neural Network (CNN) for Image Classification with Keras and TensorFlow. Medium. \n",
    "\n",
    "[3].Devansh. (2024, November 20). Image Classification Using CNN with Keras & CIFAR-10. Analytics Vidhya.\n",
    "\n",
    "[4].microsoft/cats_vs_dogs · Datasets at Hugging Face. (2023, September 19).\n",
    "\n",
    "[5].Dogs vs. Cats. (n.d.). Kaggle.\n",
    "\n",
    "[6].GeeksforGeeks. (2024, June 19). Python Tkinter. GeeksforGeeks.\n",
    "\n",
    "[7].Ajay. (2024, January 22). Deploying deep learning model using Tkinter and PyInstaller. Analytics Vidhya."
   ]
  },
  {
   "cell_type": "code",
   "execution_count": null,
   "id": "9734bbc6-170b-4129-a8f0-9dc0852a5e82",
   "metadata": {},
   "outputs": [],
   "source": []
  }
 ],
 "metadata": {
  "kernelspec": {
   "display_name": "Python 3 (ipykernel)",
   "language": "python",
   "name": "python3"
  },
  "language_info": {
   "codemirror_mode": {
    "name": "ipython",
    "version": 3
   },
   "file_extension": ".py",
   "mimetype": "text/x-python",
   "name": "python",
   "nbconvert_exporter": "python",
   "pygments_lexer": "ipython3",
   "version": "3.12.5"
  }
 },
 "nbformat": 4,
 "nbformat_minor": 5
}
